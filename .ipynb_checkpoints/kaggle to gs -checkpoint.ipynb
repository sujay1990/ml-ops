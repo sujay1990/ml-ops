{
 "cells": [
  {
   "cell_type": "code",
   "execution_count": null,
   "id": "81733515",
   "metadata": {},
   "outputs": [],
   "source": [
    "import numpy as np # linear algebra\n",
    "import pandas as pd # data processing, CSV file I/O (e.g. pd.read_csv)\n",
    "\n",
    "# Input data files are available in the read-only \"../input/\" directory\n",
    "# For example, running this (by clicking run or pressing Shift+Enter) will list all files under the input directory\n",
    "\n",
    "import os\n",
    "file_location = []\n",
    "for dirname, _, filenames in os.walk('/kaggle/input/person-images/dogImages/dogImages/valid/'):\n",
    "    for filename in filenames:\n",
    "        file_location.append(os.path.join(dirname, filename))\n",
    "#         print(os.path.join(dirname, filename))\n",
    "# #         print(dirname)\n"
   ]
  },
  {
   "cell_type": "code",
   "execution_count": null,
   "id": "b4e18dcf",
   "metadata": {},
   "outputs": [],
   "source": [
    "import os\n",
    "os.environ[\"GOOGLE_APPLICATION_CREDENTIALS\"]=\"../input/google-key/directed-post-316003-300502ca1f7e.json\"\n",
    "\n",
    "def implicit():\n",
    "    from google.cloud import storage\n",
    "\n",
    "    # If you don't specify credentials when constructing the client, the\n",
    "    # client library will look for credentials in the environment.\n",
    "    storage_client = storage.Client()\n",
    "\n",
    "    # Make an authenticated API request\n",
    "    buckets = list(storage_client.list_buckets())\n",
    "    print(buckets)\n",
    "\n",
    "implicit()"
   ]
  },
  {
   "cell_type": "code",
   "execution_count": null,
   "id": "905ffe0a",
   "metadata": {},
   "outputs": [],
   "source": [
    "from google.cloud import storage\n",
    "storage_client = storage.Client(project='directed-post-316003')\n",
    "bucket = storage_client.get_bucket(bucket_name)\n",
    "print(bucket)\n",
    "\n",
    "def upload_blob(bucket_name, source_file_name, destination_blob_name):\n",
    "    \"\"\"Uploads a file to the bucket. https://cloud.google.com/storage/docs/ \"\"\"\n",
    "    bucket = storage_client.get_bucket(bucket_name)\n",
    "    blob = bucket.blob(destination_blob_name)\n",
    "    blob.upload_from_filename(source_file_name)\n",
    "    print('File {} uploaded to {}.'.format(\n",
    "        source_file_name,\n",
    "        destination_blob_name))\n",
    "    \n",
    "def list_blobs(bucket_name):\n",
    "    \"\"\"Lists all the blobs in the bucket. https://cloud.google.com/storage/docs/\"\"\"\n",
    "    blobs = storage_client.list_blobs(bucket_name)\n",
    "    for blob in blobs:\n",
    "        print(blob.name)\n",
    "        "
   ]
  },
  {
   "cell_type": "code",
   "execution_count": null,
   "id": "e027cbe8",
   "metadata": {},
   "outputs": [],
   "source": [
    "for filename in file_location:\n",
    "    local_data = filename\n",
    "    file_name = filename.split('/')[-1]\n",
    "    upload_blob(bucket_name, local_data, file_name)\n",
    "    print('Data inside of',bucket_name,':')\n",
    "#     list_blobs(bucket_name)"
   ]
  },
  {
   "cell_type": "code",
   "execution_count": null,
   "id": "045fa269",
   "metadata": {},
   "outputs": [],
   "source": []
  },
  {
   "cell_type": "code",
   "execution_count": null,
   "id": "7933c7ab",
   "metadata": {},
   "outputs": [],
   "source": []
  }
 ],
 "metadata": {
  "kernelspec": {
   "display_name": "Python 3",
   "language": "python",
   "name": "python3"
  },
  "language_info": {
   "codemirror_mode": {
    "name": "ipython",
    "version": 3
   },
   "file_extension": ".py",
   "mimetype": "text/x-python",
   "name": "python",
   "nbconvert_exporter": "python",
   "pygments_lexer": "ipython3",
   "version": "3.9.5"
  }
 },
 "nbformat": 4,
 "nbformat_minor": 5
}
