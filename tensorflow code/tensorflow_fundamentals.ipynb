{
 "cells": [
  {
   "cell_type": "markdown",
   "id": "ea754efc",
   "metadata": {},
   "source": [
    "## Introduction to Tensors"
   ]
  },
  {
   "cell_type": "code",
   "execution_count": 2,
   "id": "d5fb3c7c",
   "metadata": {},
   "outputs": [
    {
     "name": "stdout",
     "output_type": "stream",
     "text": [
      "2.5.0\n"
     ]
    }
   ],
   "source": [
    "# import tensorflow\n",
    "import tensorflow as tf\n",
    "print(tf.__version__)"
   ]
  },
  {
   "cell_type": "code",
   "execution_count": 6,
   "id": "174b7f05",
   "metadata": {},
   "outputs": [
    {
     "data": {
      "text/plain": [
       "<tf.Tensor: shape=(), dtype=int32, numpy=7>"
      ]
     },
     "execution_count": 6,
     "metadata": {},
     "output_type": "execute_result"
    }
   ],
   "source": [
    "# Creating tensors with tf.constant\n",
    "scalar = tf.constant(7)\n",
    "scalar"
   ]
  },
  {
   "cell_type": "code",
   "execution_count": 7,
   "id": "4b2d3c57",
   "metadata": {},
   "outputs": [
    {
     "data": {
      "text/plain": [
       "0"
      ]
     },
     "execution_count": 7,
     "metadata": {},
     "output_type": "execute_result"
    }
   ],
   "source": [
    "# Check no. of dimensions of a tensor\n",
    "scalar.ndim"
   ]
  },
  {
   "cell_type": "code",
   "execution_count": 11,
   "id": "746084fa",
   "metadata": {},
   "outputs": [
    {
     "data": {
      "text/plain": [
       "<tf.Tensor: shape=(2,), dtype=int32, numpy=array([10, 10])>"
      ]
     },
     "execution_count": 11,
     "metadata": {},
     "output_type": "execute_result"
    }
   ],
   "source": [
    "# Create a vector\n",
    "vector = tf.constant([10,10])\n",
    "vector"
   ]
  },
  {
   "cell_type": "code",
   "execution_count": 12,
   "id": "6fc305e5",
   "metadata": {},
   "outputs": [
    {
     "data": {
      "text/plain": [
       "1"
      ]
     },
     "execution_count": 12,
     "metadata": {},
     "output_type": "execute_result"
    }
   ],
   "source": [
    "# Check dimensions of vector\n",
    "vector.ndim"
   ]
  },
  {
   "cell_type": "code",
   "execution_count": 14,
   "id": "fc98d77f",
   "metadata": {},
   "outputs": [
    {
     "data": {
      "text/plain": [
       "<tf.Tensor: shape=(2, 2), dtype=int32, numpy=\n",
       "array([[ 7, 10],\n",
       "       [10,  7]])>"
      ]
     },
     "execution_count": 14,
     "metadata": {},
     "output_type": "execute_result"
    }
   ],
   "source": [
    "# Create a matrix \n",
    "matrix = tf.constant([[7,10],[10,7]])\n",
    "matrix"
   ]
  },
  {
   "cell_type": "code",
   "execution_count": 15,
   "id": "55cc52e4",
   "metadata": {},
   "outputs": [
    {
     "data": {
      "text/plain": [
       "2"
      ]
     },
     "execution_count": 15,
     "metadata": {},
     "output_type": "execute_result"
    }
   ],
   "source": [
    "# check matrix dimensions\n",
    "matrix.ndim"
   ]
  },
  {
   "cell_type": "code",
   "execution_count": 22,
   "id": "7a721cd1",
   "metadata": {},
   "outputs": [
    {
     "data": {
      "text/plain": [
       "<tf.Tensor: shape=(3, 2), dtype=float16, numpy=\n",
       "array([[10.,  7.],\n",
       "       [ 9., 10.],\n",
       "       [ 7., 10.]], dtype=float16)>"
      ]
     },
     "execution_count": 22,
     "metadata": {},
     "output_type": "execute_result"
    }
   ],
   "source": [
    "# matrix\n",
    "m2 = tf.constant([[10., 7.], [9.,10.], [7.,10.]], dtype=tf.float16)\n",
    "m2"
   ]
  },
  {
   "cell_type": "code",
   "execution_count": 23,
   "id": "49ec2c58",
   "metadata": {},
   "outputs": [
    {
     "data": {
      "text/plain": [
       "2"
      ]
     },
     "execution_count": 23,
     "metadata": {},
     "output_type": "execute_result"
    }
   ],
   "source": [
    "# dimension of m2\n",
    "m2.ndim"
   ]
  },
  {
   "cell_type": "code",
   "execution_count": 30,
   "id": "b0b40909",
   "metadata": {},
   "outputs": [
    {
     "data": {
      "text/plain": [
       "<tf.Tensor: shape=(3, 2, 3), dtype=int16, numpy=\n",
       "array([[[ 1,  2,  3],\n",
       "        [ 4,  5,  6]],\n",
       "\n",
       "       [[ 7,  8,  9],\n",
       "        [10, 11, 12]],\n",
       "\n",
       "       [[13, 14, 15],\n",
       "        [16, 17, 18]]], dtype=int16)>"
      ]
     },
     "execution_count": 30,
     "metadata": {},
     "output_type": "execute_result"
    }
   ],
   "source": [
    "m3 = tf.constant([[[1,2,3],\n",
    "                  [4,5,6]],\n",
    "                  [[7,8,9],\n",
    "                  [10,11,12]],\n",
    "                 [[13,14,15],\n",
    "                 [16,17,18]]], dtype=tf.int16)\n",
    "m3"
   ]
  },
  {
   "cell_type": "code",
   "execution_count": 26,
   "id": "bbd9c950",
   "metadata": {},
   "outputs": [
    {
     "data": {
      "text/plain": [
       "3"
      ]
     },
     "execution_count": 26,
     "metadata": {},
     "output_type": "execute_result"
    }
   ],
   "source": [
    "m3.ndim"
   ]
  },
  {
   "cell_type": "markdown",
   "id": "63a578e4",
   "metadata": {},
   "source": [
    "## Creating tensors with tf.Variable"
   ]
  },
  {
   "cell_type": "code",
   "execution_count": 36,
   "id": "9000844d",
   "metadata": {},
   "outputs": [
    {
     "data": {
      "text/plain": [
       "tensorflow.python.ops.variables.Variable"
      ]
     },
     "execution_count": 36,
     "metadata": {},
     "output_type": "execute_result"
    }
   ],
   "source": [
    "var = tf.Variable\n",
    "var"
   ]
  },
  {
   "cell_type": "code",
   "execution_count": 37,
   "id": "5402ae0b",
   "metadata": {},
   "outputs": [
    {
     "data": {
      "text/plain": [
       "<tf.Variable 'Variable:0' shape=(2, 2) dtype=int32, numpy=\n",
       "array([[1, 2],\n",
       "       [3, 4]])>"
      ]
     },
     "execution_count": 37,
     "metadata": {},
     "output_type": "execute_result"
    }
   ],
   "source": [
    "var = tf.Variable([[1,2],[3,4]])\n",
    "var"
   ]
  },
  {
   "cell_type": "code",
   "execution_count": 47,
   "id": "709c1ec7",
   "metadata": {},
   "outputs": [
    {
     "data": {
      "text/plain": [
       "<tf.Variable 'Variable:0' shape=(2, 2) dtype=int32, numpy=\n",
       "array([[ 1,  2],\n",
       "       [10,  7]])>"
      ]
     },
     "execution_count": 47,
     "metadata": {},
     "output_type": "execute_result"
    }
   ],
   "source": [
    "var.assign([[1,2],[10,7]])\n",
    "var"
   ]
  },
  {
   "cell_type": "code",
   "execution_count": 62,
   "id": "822c95f7",
   "metadata": {},
   "outputs": [
    {
     "data": {
      "text/plain": [
       "<tf.Variable 'UnreadVariable' shape=(2, 2) dtype=int32, numpy=\n",
       "array([[ 4,  5],\n",
       "       [10,  7]])>"
      ]
     },
     "execution_count": 62,
     "metadata": {},
     "output_type": "execute_result"
    }
   ],
   "source": [
    "var[0].assign([4,5])"
   ]
  },
  {
   "cell_type": "markdown",
   "id": "3f989cd7",
   "metadata": {},
   "source": [
    "## Creating random tensors"
   ]
  },
  {
   "cell_type": "code",
   "execution_count": 67,
   "id": "9b521ee0",
   "metadata": {},
   "outputs": [
    {
     "data": {
      "text/plain": [
       "<tf.Tensor: shape=(3, 2, 2), dtype=float32, numpy=\n",
       "array([[[0.74659383, 0.0404588 ],\n",
       "        [0.44859898, 0.5106667 ]],\n",
       "\n",
       "       [[0.8429239 , 0.17487144],\n",
       "        [0.87220395, 0.32960153]],\n",
       "\n",
       "       [[0.16648912, 0.0104022 ],\n",
       "        [0.0621835 , 0.02846444]]], dtype=float32)>"
      ]
     },
     "execution_count": 67,
     "metadata": {},
     "output_type": "execute_result"
    }
   ],
   "source": [
    "tf.random.uniform(shape=(3,2,2))"
   ]
  },
  {
   "cell_type": "code",
   "execution_count": 74,
   "id": "39170032",
   "metadata": {},
   "outputs": [
    {
     "data": {
      "text/plain": [
       "<tf.Tensor: shape=(2, 2), dtype=float32, numpy=\n",
       "array([[-0.7565803 , -0.06854702],\n",
       "       [ 0.07595026, -1.2573844 ]], dtype=float32)>"
      ]
     },
     "execution_count": 74,
     "metadata": {},
     "output_type": "execute_result"
    }
   ],
   "source": [
    "rand = tf.random.Generator.from_seed(42)\n",
    "rand = rand.normal(shape=(2,2))\n",
    "rand"
   ]
  },
  {
   "cell_type": "markdown",
   "id": "9bea5e52",
   "metadata": {},
   "source": [
    "## shuffle order of elements in tensor"
   ]
  },
  {
   "cell_type": "code",
   "execution_count": 75,
   "id": "c250fd21",
   "metadata": {},
   "outputs": [],
   "source": [
    "not_shuffled = tf.constant([[1,2,3],\n",
    "                  [4,5,6],\n",
    "                  [7,8,9]])"
   ]
  },
  {
   "cell_type": "code",
   "execution_count": 106,
   "id": "b1bc4385",
   "metadata": {},
   "outputs": [
    {
     "data": {
      "text/plain": [
       "<tf.Tensor: shape=(3, 3), dtype=int32, numpy=\n",
       "array([[1, 2, 3],\n",
       "       [7, 8, 9],\n",
       "       [4, 5, 6]])>"
      ]
     },
     "execution_count": 106,
     "metadata": {},
     "output_type": "execute_result"
    }
   ],
   "source": [
    "tf.random.set_seed(42) # global seed, same order shuffled\n",
    "tf.random.shuffle(not_shuffled, seed=42)"
   ]
  },
  {
   "cell_type": "markdown",
   "id": "85ecf9d4",
   "metadata": {},
   "source": [
    "## numpy tensors"
   ]
  },
  {
   "cell_type": "code",
   "execution_count": 107,
   "id": "5756bf7d",
   "metadata": {},
   "outputs": [
    {
     "data": {
      "text/plain": [
       "<tf.Tensor: shape=(4, 4), dtype=float32, numpy=\n",
       "array([[1., 1., 1., 1.],\n",
       "       [1., 1., 1., 1.],\n",
       "       [1., 1., 1., 1.],\n",
       "       [1., 1., 1., 1.]], dtype=float32)>"
      ]
     },
     "execution_count": 107,
     "metadata": {},
     "output_type": "execute_result"
    }
   ],
   "source": [
    "tf.ones([4,4])"
   ]
  },
  {
   "cell_type": "code",
   "execution_count": 112,
   "id": "aa98d489",
   "metadata": {},
   "outputs": [
    {
     "data": {
      "text/plain": [
       "<tf.Tensor: shape=(4, 4), dtype=float32, numpy=\n",
       "array([[0., 0., 0., 0.],\n",
       "       [0., 0., 0., 0.],\n",
       "       [0., 0., 0., 0.],\n",
       "       [0., 0., 0., 0.]], dtype=float32)>"
      ]
     },
     "execution_count": 112,
     "metadata": {},
     "output_type": "execute_result"
    }
   ],
   "source": [
    "tf.zeros(shape=(4,4))"
   ]
  },
  {
   "cell_type": "markdown",
   "id": "dfc97f70",
   "metadata": {},
   "source": [
    "#### numpy and tf arrays are similar mostly. tf arrays can be run on gpu"
   ]
  },
  {
   "cell_type": "code",
   "execution_count": 113,
   "id": "3780b5fd",
   "metadata": {},
   "outputs": [
    {
     "data": {
      "text/plain": [
       "array([ 1,  2,  3,  4,  5,  6,  7,  8,  9, 10, 11, 12, 13, 14, 15, 16, 17,\n",
       "       18, 19, 20, 21, 22, 23, 24])"
      ]
     },
     "execution_count": 113,
     "metadata": {},
     "output_type": "execute_result"
    }
   ],
   "source": [
    "import numpy as np\n",
    "numpy_a = np.arange(1,25, dtype=np.int32)\n",
    "numpy_a"
   ]
  },
  {
   "cell_type": "code",
   "execution_count": 117,
   "id": "d2d6e391",
   "metadata": {},
   "outputs": [
    {
     "data": {
      "text/plain": [
       "<tf.Tensor: shape=(3, 2, 4), dtype=int32, numpy=\n",
       "array([[[ 1,  2,  3,  4],\n",
       "        [ 5,  6,  7,  8]],\n",
       "\n",
       "       [[ 9, 10, 11, 12],\n",
       "        [13, 14, 15, 16]],\n",
       "\n",
       "       [[17, 18, 19, 20],\n",
       "        [21, 22, 23, 24]]])>"
      ]
     },
     "execution_count": 117,
     "metadata": {},
     "output_type": "execute_result"
    }
   ],
   "source": [
    "tf.constant(numpy_a,shape=(3,2,4))"
   ]
  },
  {
   "cell_type": "markdown",
   "id": "ad5d8b54",
   "metadata": {},
   "source": [
    "#### important attributes\n",
    "###### shape, Rank, Axis or dimensions, size"
   ]
  },
  {
   "cell_type": "code",
   "execution_count": 119,
   "id": "ce99e386",
   "metadata": {},
   "outputs": [
    {
     "data": {
      "text/plain": [
       "<tf.Tensor: shape=(2, 3, 4, 5), dtype=float32, numpy=\n",
       "array([[[[0., 0., 0., 0., 0.],\n",
       "         [0., 0., 0., 0., 0.],\n",
       "         [0., 0., 0., 0., 0.],\n",
       "         [0., 0., 0., 0., 0.]],\n",
       "\n",
       "        [[0., 0., 0., 0., 0.],\n",
       "         [0., 0., 0., 0., 0.],\n",
       "         [0., 0., 0., 0., 0.],\n",
       "         [0., 0., 0., 0., 0.]],\n",
       "\n",
       "        [[0., 0., 0., 0., 0.],\n",
       "         [0., 0., 0., 0., 0.],\n",
       "         [0., 0., 0., 0., 0.],\n",
       "         [0., 0., 0., 0., 0.]]],\n",
       "\n",
       "\n",
       "       [[[0., 0., 0., 0., 0.],\n",
       "         [0., 0., 0., 0., 0.],\n",
       "         [0., 0., 0., 0., 0.],\n",
       "         [0., 0., 0., 0., 0.]],\n",
       "\n",
       "        [[0., 0., 0., 0., 0.],\n",
       "         [0., 0., 0., 0., 0.],\n",
       "         [0., 0., 0., 0., 0.],\n",
       "         [0., 0., 0., 0., 0.]],\n",
       "\n",
       "        [[0., 0., 0., 0., 0.],\n",
       "         [0., 0., 0., 0., 0.],\n",
       "         [0., 0., 0., 0., 0.],\n",
       "         [0., 0., 0., 0., 0.]]]], dtype=float32)>"
      ]
     },
     "execution_count": 119,
     "metadata": {},
     "output_type": "execute_result"
    }
   ],
   "source": [
    "rank4tensor = tf.zeros(shape=(2,3,4,5))\n",
    "rank4tensor"
   ]
  },
  {
   "cell_type": "code",
   "execution_count": 134,
   "id": "dbcf13af",
   "metadata": {},
   "outputs": [
    {
     "data": {
      "text/plain": [
       "(TensorShape([2, 3, 4, 5]),\n",
       " 4,\n",
       " <tf.Tensor: shape=(), dtype=int32, numpy=120>,\n",
       " tf.float32,\n",
       " 2,\n",
       " 5,\n",
       " 120)"
      ]
     },
     "execution_count": 134,
     "metadata": {},
     "output_type": "execute_result"
    }
   ],
   "source": [
    "rank4tensor.shape, rank4tensor.ndim, tf.size(rank4tensor), rank4tensor.dtype, rank4tensor.shape[0], \\\n",
    "rank4tensor.shape[-1], tf.size(rank4tensor).numpy()"
   ]
  },
  {
   "cell_type": "markdown",
   "id": "89b1ed64",
   "metadata": {},
   "source": [
    "### indexing tensors"
   ]
  },
  {
   "cell_type": "code",
   "execution_count": 144,
   "id": "2403ce74",
   "metadata": {},
   "outputs": [
    {
     "data": {
      "text/plain": [
       "<tf.Tensor: shape=(1, 3, 4, 4), dtype=float32, numpy=\n",
       "array([[[[0., 0., 0., 0.],\n",
       "         [0., 0., 0., 0.],\n",
       "         [0., 0., 0., 0.],\n",
       "         [0., 0., 0., 0.]],\n",
       "\n",
       "        [[0., 0., 0., 0.],\n",
       "         [0., 0., 0., 0.],\n",
       "         [0., 0., 0., 0.],\n",
       "         [0., 0., 0., 0.]],\n",
       "\n",
       "        [[0., 0., 0., 0.],\n",
       "         [0., 0., 0., 0.],\n",
       "         [0., 0., 0., 0.],\n",
       "         [0., 0., 0., 0.]]]], dtype=float32)>"
      ]
     },
     "execution_count": 144,
     "metadata": {},
     "output_type": "execute_result"
    }
   ],
   "source": [
    "rank4tensor[:1,:,:,:4]"
   ]
  },
  {
   "cell_type": "code",
   "execution_count": 147,
   "id": "b8084e93",
   "metadata": {},
   "outputs": [
    {
     "data": {
      "text/plain": [
       "(TensorShape([2, 2]),\n",
       " 2,\n",
       " <tf.Tensor: shape=(2, 2), dtype=int32, numpy=\n",
       " array([[10,  7],\n",
       "        [ 1,  2]])>)"
      ]
     },
     "execution_count": 147,
     "metadata": {},
     "output_type": "execute_result"
    }
   ],
   "source": [
    "rank2tensor = tf.constant([[10,7],[1,2]])\n",
    "rank2tensor.shape, rank2tensor.ndim, rank2tensor"
   ]
  },
  {
   "cell_type": "code",
   "execution_count": 158,
   "id": "d643e92d",
   "metadata": {},
   "outputs": [
    {
     "data": {
      "text/plain": [
       "<tf.Tensor: shape=(2, 2, 1), dtype=int32, numpy=\n",
       "array([[[10],\n",
       "        [ 7]],\n",
       "\n",
       "       [[ 1],\n",
       "        [ 2]]])>"
      ]
     },
     "execution_count": 158,
     "metadata": {},
     "output_type": "execute_result"
    }
   ],
   "source": [
    "rank3tensor = rank2tensor[..., tf.newaxis]\n",
    "rank3tensor"
   ]
  },
  {
   "cell_type": "code",
   "execution_count": 166,
   "id": "a8a6b95a",
   "metadata": {},
   "outputs": [
    {
     "data": {
      "text/plain": [
       "<tf.Tensor: shape=(2, 2, 1), dtype=int32, numpy=\n",
       "array([[[10],\n",
       "        [ 7]],\n",
       "\n",
       "       [[ 1],\n",
       "        [ 2]]])>"
      ]
     },
     "execution_count": 166,
     "metadata": {},
     "output_type": "execute_result"
    }
   ],
   "source": [
    "# expand axis\n",
    "tf.expand_dims(rank2tensor,axis=2)"
   ]
  },
  {
   "cell_type": "markdown",
   "id": "6b45483d",
   "metadata": {},
   "source": [
    "## operators"
   ]
  },
  {
   "cell_type": "code",
   "execution_count": 169,
   "id": "dacf3355",
   "metadata": {},
   "outputs": [
    {
     "data": {
      "text/plain": [
       "(<tf.Tensor: shape=(3, 3), dtype=int32, numpy=\n",
       " array([[11, 12, 13],\n",
       "        [14, 15, 16],\n",
       "        [17, 18, 19]])>,\n",
       " <tf.Tensor: shape=(3, 3), dtype=int32, numpy=\n",
       " array([[10, 20, 30],\n",
       "        [40, 50, 60],\n",
       "        [70, 80, 90]])>,\n",
       " <tf.Tensor: shape=(3, 3), dtype=int32, numpy=\n",
       " array([[-4, -3, -2],\n",
       "        [-1,  0,  1],\n",
       "        [ 2,  3,  4]])>,\n",
       " <tf.Tensor: shape=(3, 3), dtype=float64, numpy=\n",
       " array([[0.25, 0.5 , 0.75],\n",
       "        [1.  , 1.25, 1.5 ],\n",
       "        [1.75, 2.  , 2.25]])>)"
      ]
     },
     "execution_count": 169,
     "metadata": {},
     "output_type": "execute_result"
    }
   ],
   "source": [
    "x = tf.constant([[1,2,3],\n",
    "                  [4,5,6],\n",
    "                  [7,8,9]])\n",
    "x + 10, x * 10, x - 5, x / 4"
   ]
  },
  {
   "cell_type": "code",
   "execution_count": 171,
   "id": "f0dc8179",
   "metadata": {},
   "outputs": [
    {
     "data": {
      "text/plain": [
       "(<tf.Tensor: shape=(3, 3), dtype=int32, numpy=\n",
       " array([[11, 12, 13],\n",
       "        [14, 15, 16],\n",
       "        [17, 18, 19]])>,\n",
       " <tf.Tensor: shape=(3, 3), dtype=int32, numpy=\n",
       " array([[-4, -3, -2],\n",
       "        [-1,  0,  1],\n",
       "        [ 2,  3,  4]])>,\n",
       " <tf.Tensor: shape=(3, 3), dtype=int32, numpy=\n",
       " array([[10, 20, 30],\n",
       "        [40, 50, 60],\n",
       "        [70, 80, 90]])>,\n",
       " <tf.Tensor: shape=(3, 3), dtype=float64, numpy=\n",
       " array([[0.25, 0.5 , 0.75],\n",
       "        [1.  , 1.25, 1.5 ],\n",
       "        [1.75, 2.  , 2.25]])>)"
      ]
     },
     "execution_count": 171,
     "metadata": {},
     "output_type": "execute_result"
    }
   ],
   "source": [
    "tf.add(x,10), tf.subtract(x ,5) , tf.multiply(x,10), tf.divide(x,4)"
   ]
  },
  {
   "cell_type": "markdown",
   "id": "406f2380",
   "metadata": {},
   "source": [
    "## matmul"
   ]
  },
  {
   "cell_type": "code",
   "execution_count": 173,
   "id": "28ba5f66",
   "metadata": {},
   "outputs": [
    {
     "data": {
      "text/plain": [
       "<tf.Tensor: shape=(3, 3), dtype=int32, numpy=\n",
       "array([[-30,   6,  42],\n",
       "       [-39,   6,  51],\n",
       "       [-48,   6,  60]])>"
      ]
     },
     "execution_count": 173,
     "metadata": {},
     "output_type": "execute_result"
    }
   ],
   "source": [
    "tf.matmul(tf.add(x,10),tf.subtract(x ,5) )"
   ]
  },
  {
   "cell_type": "code",
   "execution_count": null,
   "id": "7a6f345e",
   "metadata": {},
   "outputs": [],
   "source": []
  },
  {
   "cell_type": "code",
   "execution_count": null,
   "id": "53cbf2af",
   "metadata": {},
   "outputs": [],
   "source": []
  }
 ],
 "metadata": {
  "kernelspec": {
   "display_name": "Python 3",
   "language": "python",
   "name": "python3"
  },
  "language_info": {
   "codemirror_mode": {
    "name": "ipython",
    "version": 3
   },
   "file_extension": ".py",
   "mimetype": "text/x-python",
   "name": "python",
   "nbconvert_exporter": "python",
   "pygments_lexer": "ipython3",
   "version": "3.9.5"
  }
 },
 "nbformat": 4,
 "nbformat_minor": 5
}
