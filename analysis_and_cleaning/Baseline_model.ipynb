{
 "cells": [
  {
   "cell_type": "code",
   "execution_count": 30,
   "id": "5be27eb3",
   "metadata": {},
   "outputs": [],
   "source": [
    "import pandas as pd\n",
    "import numpy as np\n",
    "import os\n",
    "import matplotlib.pyplot as plt\n",
    "from sklearn.preprocessing import StandardScaler\n",
    "from operator import itemgetter\n",
    "import json"
   ]
  },
  {
   "cell_type": "code",
   "execution_count": null,
   "id": "3feceb8a",
   "metadata": {},
   "outputs": [],
   "source": [
    "os.chdir(\"F:\\\\Road to Opta\\\\player_stats\\\\\")\n",
    "football_dataset = pd.read_csv(\"football_scoreline.csv\")\n",
    "football_dataset = football_dataset.iloc[:,1:]"
   ]
  },
  {
   "cell_type": "code",
   "execution_count": null,
   "id": "f4bdbb2d",
   "metadata": {},
   "outputs": [],
   "source": [
    "football_dataset.head(3)"
   ]
  },
  {
   "cell_type": "code",
   "execution_count": null,
   "id": "69e2a9a4",
   "metadata": {},
   "outputs": [],
   "source": [
    "columns = football_dataset.columns.to_list()\n",
    "columns = columns[0:1] + columns [3:4] + columns[7:8] + columns[9:]"
   ]
  },
  {
   "cell_type": "code",
   "execution_count": null,
   "id": "17fd6942",
   "metadata": {},
   "outputs": [],
   "source": [
    "df = football_dataset[[*columns]]\n",
    "position = pd.get_dummies(df.pos,prefix=\"pos\")\n",
    "result = pd.get_dummies(df.result,prefix=\"result\")\n",
    "league = pd.get_dummies(df.league,prefix=\"league\")\n",
    "df = df.drop(['pos','result','league'],axis=1)\n",
    "df = df.join(position).join(result).join(league)\n",
    "df.head(3)"
   ]
  },
  {
   "cell_type": "code",
   "execution_count": null,
   "id": "28d89b3f",
   "metadata": {},
   "outputs": [],
   "source": [
    "from sklearn.preprocessing import StandardScaler\n",
    "scaled_features = StandardScaler().fit_transform(df.iloc[:,1:].values)\n",
    "scaled_features_df = pd.DataFrame(scaled_features, index=df.iloc[:,1:].index, columns=df.iloc[:,1:].columns)\n",
    "scaled_features_df.head(5)"
   ]
  },
  {
   "cell_type": "code",
   "execution_count": null,
   "id": "55b1a331",
   "metadata": {},
   "outputs": [],
   "source": [
    "scaled_features_df = pd.concat([df.player_name,scaled_features_df],axis=1)\n",
    "scaled_features_df.head(5)"
   ]
  },
  {
   "cell_type": "code",
   "execution_count": null,
   "id": "3ff55b00",
   "metadata": {},
   "outputs": [],
   "source": [
    "import sqlite3\n",
    "os.chdir(\"F:\\\\Road to Opta\\\\player_stats\\\\\")\n",
    "cnn=sqlite3.connect('game_data.db')\n",
    "#scaled_features_df.to_sql('scaled_features',cnn)"
   ]
  },
  {
   "cell_type": "code",
   "execution_count": null,
   "id": "e3ff4975",
   "metadata": {},
   "outputs": [],
   "source": [
    "cursor = cnn.cursor()\n",
    "cursor.execute(\"SELECT name FROM sqlite_master WHERE type='table';\")\n",
    "print(cursor.fetchall())"
   ]
  },
  {
   "cell_type": "code",
   "execution_count": null,
   "id": "f8e1091c",
   "metadata": {},
   "outputs": [],
   "source": [
    "#cursor.execute(\"DROP TABLE scaled_features\")"
   ]
  },
  {
   "cell_type": "code",
   "execution_count": null,
   "id": "f5290753",
   "metadata": {},
   "outputs": [],
   "source": [
    "%reload_ext sql"
   ]
  },
  {
   "cell_type": "code",
   "execution_count": null,
   "id": "d1cde335",
   "metadata": {},
   "outputs": [],
   "source": [
    "%sql sqlite:///game_data.db"
   ]
  },
  {
   "cell_type": "code",
   "execution_count": null,
   "id": "edef2111",
   "metadata": {},
   "outputs": [],
   "source": [
    "## Mean stats of every player\n",
    "\n",
    "mean_stats_query = '''\n",
    "Select player_name,\n",
    "AVG(min) as min_mean,\n",
    "AVG(st) as st_mean,\n",
    "AVG('on') as on_mean,\n",
    "AVG(off) as off_mean,\n",
    "AVG(y) as y_mean,\n",
    "AVG(yr) as yr_mean,\n",
    "AVG(r) as r_mean,\n",
    "AVG(g) as g_mean,\n",
    "AVG(a) as a_mean,\n",
    "AVG(sa) as sa_mean,\n",
    "AVG(aop) as aop_mean,\n",
    "AVG(asp) as asp_mean,\n",
    "AVG(s) as s_mean,\n",
    "AVG(sog) as sog_mean,\n",
    "AVG(int) as int_mean,\n",
    "AVG(cr) as cr_mean,\n",
    "AVG(acr) as acr_mean,\n",
    "AVG(cc) as cc_mean,\n",
    "AVG(bcc) as bcc_mean,\n",
    "AVG(ccop) as ccop_mean,\n",
    "AVG(ccsp) as ccsp_mean,\n",
    "AVG(blk) as blk_mean,\n",
    "AVG(tkl) as tkl_mean,\n",
    "AVG(tklw) as tklw_mean,\n",
    "AVG(fc) as fc_mean,\n",
    "AVG(fs) as fs_mean,\n",
    "AVG(p) as p_mean,\n",
    "AVG(ap) as ap_mean,\n",
    "AVG(acro) as acro_mean,\n",
    "AVG(aw) as aw_mean,\n",
    "AVG(br) as br_mean,\n",
    "AVG(dr) as dr_mean,\n",
    "AVG(dw) as dw_mean,\n",
    "AVG(eg) as eg_mean,\n",
    "AVG(es) as es_mean,\n",
    "AVG(ibs) as ibs_mean,\n",
    "AVG(ibsog) as ibsog_mean,\n",
    "AVG(ibg) as ibg_mean,\n",
    "AVG(obs) as obs_mean,\n",
    "AVG(obsog) as obsog_mean,\n",
    "AVG(obg) as obg_mean,\n",
    "AVG(aog) as aog_mean,\n",
    "AVG(apw) as apw_mean,\n",
    "AVG(dsp) as dsp_mean,\n",
    "AVG(own) as own_mean,\n",
    "AVG(touch) as touch_mean,\n",
    "AVG(tbox) as tbox_mean,\n",
    "AVG(pft) as pft_mean,\n",
    "AVG(dl) as dl_mean,\n",
    "AVG(afzp) as afzp_mean,\n",
    "AVG(blkcr) as blkcr_mean,\n",
    "AVG(pent) as pent_mean,\n",
    "AVG(clrol) as clrol_mean,\n",
    "AVG(posl) as posl_mean,\n",
    "AVG(lpopp) as lpopp_mean,\n",
    "AVG(pk) as pk_mean,\n",
    "AVG(pkg) as pkg_mean,\n",
    "AVG(pkm) as pkm_mean,\n",
    "AVG(pksvd) as pksvd_mean,\n",
    "AVG(fkcr) as fkcr_mean,\n",
    "AVG(fkacr) as fkacr_mean,\n",
    "AVG(crn) as crn_mean,\n",
    "AVG(crncr) as crncr_mean,\n",
    "AVG(crnw) as crnw_mean,\n",
    "AVG(fks) as fks_mean,\n",
    "AVG(fksog) as fksog_mean,\n",
    "AVG(fkg) as fkg_mean,\n",
    "AVG(gc) as gc_mean,\n",
    "AVG(cs) as cs_mean,\n",
    "AVG(sv) as sv_mean,\n",
    "AVG(ibsv) as ibsv_mean,\n",
    "AVG(obsv) as obsv_mean,\n",
    "AVG(aks) as aks_mean,\n",
    "AVG(pkc) as pkc_mean,\n",
    "AVG(pkf) as pkf_mean,\n",
    "AVG(pksv) as pksv_mean,\n",
    "AVG(cl) as cl_mean,\n",
    "AVG(ecl) as ecl_mean,\n",
    "AVG(punch) as punch_mean,\n",
    "AVG(alb) as alb_mean,\n",
    "AVG(atb) as atb_mean,\n",
    "AVG(lmt) as lmt_mean,\n",
    "AVG(toff) as toff_mean,\n",
    "AVG(bcm) as bcm_mean,\n",
    "AVG(bcs) as bcs_mean,\n",
    "AVG(attdr) as attdr_mean,\n",
    "AVG(pos_AMC) as pos_AMC_mean,\n",
    "AVG(pos_AML) as pos_AML_mean,\n",
    "AVG(pos_AMR) as pos_AMR_mean,\n",
    "AVG(pos_DC) as pos_DC_mean,\n",
    "AVG(pos_DL) as pos_DL_mean,\n",
    "AVG(pos_DMC) as pos_DMC_mean,\n",
    "AVG(pos_DML) as pos_DML_mean,\n",
    "AVG(pos_DMR) as pos_DMR_mean,\n",
    "AVG(pos_DR) as pos_DR_mean,\n",
    "AVG(pos_FW) as pos_FW_mean,\n",
    "AVG(pos_FWL) as pos_FWL_mean,\n",
    "AVG(pos_FWR) as pos_FWR_mean,\n",
    "AVG(pos_GK) as pos_GK_mean,\n",
    "AVG(pos_MC) as pos_MC_mean,\n",
    "AVG(pos_ML) as pos_ML_mean,\n",
    "AVG(pos_MR) as pos_MR_mean,\n",
    "AVG(pos_SUB) as pos_SUB_mean,\n",
    "AVG(team_score) as team_score_mean,\n",
    "AVG(opp_score) as opp_score_mean,\n",
    "AVG(result_draw) as result_draw_mean,\n",
    "AVG(result_win) as result_win_mean,\n",
    "AVG(result_loss) as result_loss_mean,\n",
    "AVG(league_BUND) as league_BUND_mean,\n",
    "AVG(league_EPL) as league_EPL_mean,\n",
    "AVG(league_FRAN) as league_FRAN_mean,\n",
    "AVG(league_LIGA) as league_LIGA_mean,\n",
    "AVG(league_SERI) as league_SERI_mean,\n",
    "AVG(league_UCL) as league_UCL_mean,\n",
    "AVG(league_UEL) as league_UEL_mean\n",
    "from scaled_features\n",
    "group by player_name\n",
    "'''"
   ]
  },
  {
   "cell_type": "code",
   "execution_count": null,
   "id": "69cf0279",
   "metadata": {},
   "outputs": [],
   "source": [
    "mean_stats = %sql $mean_stats_query"
   ]
  },
  {
   "cell_type": "code",
   "execution_count": null,
   "id": "ec6f063c",
   "metadata": {},
   "outputs": [],
   "source": [
    "col = scaled_features_df.columns"
   ]
  },
  {
   "cell_type": "code",
   "execution_count": null,
   "id": "3a4e1ac3",
   "metadata": {},
   "outputs": [],
   "source": [
    "mean_stats = pd.DataFrame(mean_stats,columns=col)\n",
    "mean_stats.head(3)"
   ]
  },
  {
   "cell_type": "code",
   "execution_count": null,
   "id": "f9d4bf35",
   "metadata": {},
   "outputs": [],
   "source": [
    "# os.chdir(\"F:\\\\Road to Opta\\\\player_stats\\\\\")\n",
    "# mean_stats.to_csv(\"scaled_mean_features.csv\")"
   ]
  },
  {
   "cell_type": "markdown",
   "id": "71ed8ba7",
   "metadata": {},
   "source": [
    "## Function for Similarity"
   ]
  },
  {
   "cell_type": "code",
   "execution_count": 129,
   "id": "59573f69",
   "metadata": {},
   "outputs": [],
   "source": [
    "os.chdir(\"F:\\\\Road to Opta\\\\player_stats\\\\\")\n",
    "mean_stats = pd.read_csv(\"scaled_mean_features.csv\")\n",
    "mean_stats = mean_stats.iloc[:,1:]"
   ]
  },
  {
   "cell_type": "code",
   "execution_count": 169,
   "id": "4c0d4ec8",
   "metadata": {},
   "outputs": [],
   "source": [
    "def lowercase(df):\n",
    "    df['player_name'] = df['player_name'].str.lower()"
   ]
  },
  {
   "cell_type": "code",
   "execution_count": 170,
   "id": "50ca46d2",
   "metadata": {},
   "outputs": [],
   "source": [
    "lowercase(mean_stats)"
   ]
  },
  {
   "cell_type": "code",
   "execution_count": 227,
   "id": "c0e3bd64",
   "metadata": {},
   "outputs": [
    {
     "data": {
      "text/plain": [
       "Index(['player_name', 'min', 'st', 'on', 'off', 'y', 'yr', 'r', 'g', 'a',\n",
       "       ...\n",
       "       'result_draw', 'result_loss', 'result_win', 'league_BUND', 'league_EPL',\n",
       "       'league_FRAN', 'league_LIGA', 'league_SERI', 'league_UCL',\n",
       "       'league_UEL'],\n",
       "      dtype='object', length=116)"
      ]
     },
     "execution_count": 227,
     "metadata": {},
     "output_type": "execute_result"
    }
   ],
   "source": [
    "mean_stats.columns"
   ]
  },
  {
   "cell_type": "code",
   "execution_count": 172,
   "id": "e437e6d1",
   "metadata": {},
   "outputs": [],
   "source": [
    "final_columns = mean_stats.player_name.to_list()\n",
    "similar_df = mean_stats.loc[mean_stats['player_name'] == similar_player.lower()]"
   ]
  },
  {
   "cell_type": "code",
   "execution_count": null,
   "id": "8ddc9288",
   "metadata": {},
   "outputs": [],
   "source": []
  },
  {
   "cell_type": "code",
   "execution_count": 174,
   "id": "8e68178e",
   "metadata": {},
   "outputs": [],
   "source": [
    "def cosine_similarity_df(x, top, similar_player):\n",
    "    from sklearn.metrics.pairwise import cosine_similarity\n",
    "    cosine = cosine_similarity(x.iloc[:, 1:], mean_stats.iloc[:, 1:])\n",
    "    cosine_df = pd.DataFrame(cosine, index=x.iloc[:, 1:].index)\n",
    "    cosine_df.columns = final_columns\n",
    "    cosine_df = pd.concat([x.player_name, cosine_df], axis=1)\n",
    "    cosine_df.set_index('player_name', inplace=True)\n",
    "    cos_top_10 = cosine_df.sort_values(by=similar_player, axis=1, ascending=False).iloc[:, 1:top]\n",
    "    return cos_top_10\n",
    "\n",
    "\n",
    "def euclid_similarity_df(x, top, similar_player):\n",
    "    from scipy.spatial.distance import cdist\n",
    "    euclid = cdist(x.iloc[:, 1:], mean_stats.iloc[:, 1:], 'euclid')\n",
    "    euclid_df = pd.DataFrame(euclid, index=x.iloc[:, 1:].index)\n",
    "    euclid_df.columns = final_columns\n",
    "    euclid_df = pd.concat([x.player_name, euclid_df], axis=1)\n",
    "    euclid_df.set_index('player_name', inplace=True)\n",
    "    euc_top_10 = euclid_df.sort_values(by=similar_player, axis=1, ascending=True).iloc[:, 1:top]\n",
    "    return euc_top_10\n",
    "\n",
    "\n",
    "def manhattan_similarity_df(x, top , similar_player):\n",
    "    from scipy.spatial.distance import cdist\n",
    "    manhattan = cdist(x.iloc[:, 1:], mean_stats.iloc[:, 1:], 'cityblock')\n",
    "    manhattan_df = pd.DataFrame(manhattan, index=x.iloc[:, 1:].index)\n",
    "    manhattan_df.columns = final_columns\n",
    "    manhattan_df = pd.concat([x.player_name, manhattan_df], axis=1)\n",
    "    manhattan_df.set_index('player_name', inplace=True)\n",
    "    man_top_10 = manhattan_df.sort_values(by=similar_player, axis=1, ascending=True).iloc[:, 1:top]\n",
    "    return man_top_10\n",
    "\n",
    "\n",
    "def minkowski_similarity_df(x, top, similar_player):\n",
    "    from scipy.spatial.distance import cdist\n",
    "    minkowski = cdist(x.iloc[:, 1:], mean_stats.iloc[:, 1:], 'minkowski')\n",
    "    minkowski_df = pd.DataFrame(minkowski, index=x.iloc[:, 1:].index)\n",
    "    minkowski_df.columns = final_columns\n",
    "    minkowski_df = pd.concat([x.player_name, minkowski_df], axis=1)\n",
    "    minkowski_df.set_index('player_name', inplace=True)\n",
    "    mink_top_10 = minkowski_df.sort_values(by=similar_player, axis=1, ascending=True).iloc[:, 1:top]\n",
    "    return mink_top_10"
   ]
  },
  {
   "cell_type": "code",
   "execution_count": 184,
   "id": "d307b281",
   "metadata": {},
   "outputs": [],
   "source": [
    "def similarity(cos_top_10, euc_top_10, man_top_10, mink_top_10, top):\n",
    "    import collections\n",
    "    a_list = cos_top_10.columns.to_list()\n",
    "    b_list = euc_top_10.columns.to_list()\n",
    "    c_list = man_top_10.columns.to_list()\n",
    "    d_list = mink_top_10.columns.to_list()\n",
    "    comp_list = a_list + b_list + c_list + d_list\n",
    "    occurrences = collections.Counter(comp_list)\n",
    "    res = dict(sorted(occurrences.items(), key=itemgetter(1), reverse=True)[:top])\n",
    "    return res"
   ]
  },
  {
   "cell_type": "code",
   "execution_count": 190,
   "id": "72ea8373",
   "metadata": {},
   "outputs": [],
   "source": [
    "select_top = 20"
   ]
  },
  {
   "cell_type": "code",
   "execution_count": 191,
   "id": "0122a43e",
   "metadata": {},
   "outputs": [],
   "source": [
    "similar_player = similar_player.lower()"
   ]
  },
  {
   "cell_type": "code",
   "execution_count": 192,
   "id": "f53b0443",
   "metadata": {},
   "outputs": [],
   "source": [
    "cos_top_10 = cosine_similarity_df(similar_df, select_top, similar_player)\n",
    "euc_top_10 = euclid_similarity_df(similar_df, select_top, similar_player)\n",
    "man_top_10 = manhattan_similarity_df(similar_df, select_top, similar_player)\n",
    "mink_top_10 = minkowski_similarity_df(similar_df, select_top, similar_player)"
   ]
  },
  {
   "cell_type": "code",
   "execution_count": 203,
   "id": "129c3eba",
   "metadata": {},
   "outputs": [],
   "source": [
    "dict_of_players = similarity(cos_top_10, euc_top_10, man_top_10, mink_top_10, select_top)"
   ]
  },
  {
   "cell_type": "code",
   "execution_count": 212,
   "id": "91af4363",
   "metadata": {},
   "outputs": [],
   "source": [
    "def getlist(dict):\n",
    "    return list(map(itemgetter(0), dict.items()))"
   ]
  },
  {
   "cell_type": "code",
   "execution_count": 216,
   "id": "dc2304b6",
   "metadata": {},
   "outputs": [],
   "source": [
    "final_list = []\n",
    "for i in getlist(dict_of_players):\n",
    "    i = i.title()\n",
    "    final_list.append(i)"
   ]
  },
  {
   "cell_type": "code",
   "execution_count": 217,
   "id": "a934e998",
   "metadata": {},
   "outputs": [
    {
     "data": {
      "text/plain": [
       "['Neymar',\n",
       " 'Paulo Dybala',\n",
       " 'Josip Ilicic',\n",
       " 'Iago Aspas',\n",
       " 'Nabil Fekir',\n",
       " 'Jonathan Viera',\n",
       " 'Memphis Depay',\n",
       " 'Domenico Berardi',\n",
       " 'Angel Di Maria',\n",
       " 'Cristiano Ronaldo',\n",
       " 'Florian Thauvin',\n",
       " 'Philippe Coutinho',\n",
       " 'Andrej Kramaric',\n",
       " 'Mislav Orsic',\n",
       " 'Mohamed Salah',\n",
       " 'Bruno Fernandes',\n",
       " 'Lorenzo Insigne',\n",
       " 'Kevin De Bruyne',\n",
       " 'Suso',\n",
       " 'Alexis Sanchez']"
      ]
     },
     "execution_count": 217,
     "metadata": {},
     "output_type": "execute_result"
    }
   ],
   "source": [
    "final_list"
   ]
  },
  {
   "cell_type": "code",
   "execution_count": null,
   "id": "b0c7903b",
   "metadata": {},
   "outputs": [],
   "source": []
  },
  {
   "cell_type": "code",
   "execution_count": null,
   "id": "24803d16",
   "metadata": {},
   "outputs": [],
   "source": []
  },
  {
   "cell_type": "code",
   "execution_count": null,
   "id": "678224f4",
   "metadata": {},
   "outputs": [],
   "source": []
  },
  {
   "cell_type": "code",
   "execution_count": 47,
   "id": "9942632d",
   "metadata": {},
   "outputs": [],
   "source": [
    "# def cosine_similarity_df():\n",
    "#     from sklearn.metrics.pairwise import cosine_similarity\n",
    "#     cosine = cosine_similarity(mean_stats.iloc[:, 1:])\n",
    "#     cosine_df = pd.DataFrame(cosine, index=mean_stats.iloc[:, 1:].index)\n",
    "#     cosine_df = pd.concat([mean_stats.player_name, cosine_df], axis=1)\n",
    "#     all_players = cosine_df.player_name.to_list()\n",
    "#     cosine_df.columns = ['player_name'] + all_players\n",
    "#     return cosine_df\n",
    "\n",
    "\n",
    "# def euclid_similarity_df():\n",
    "#     from scipy.spatial.distance import cdist\n",
    "#     euclid = cdist(mean_stats.iloc[:, 1:], mean_stats.iloc[:, 1:], 'euclid')\n",
    "#     euclid_df = pd.DataFrame(euclid, index=mean_stats.iloc[:, 1:].index)\n",
    "#     euclid_df = pd.concat([mean_stats.player_name, euclid_df], axis=1)\n",
    "#     all_players = euclid_df.player_name.to_list()\n",
    "#     euclid_df.columns = ['player_name'] + all_players\n",
    "#     return euclid_df\n",
    "\n",
    "\n",
    "# def manhattan_similarity_df():\n",
    "#     from scipy.spatial.distance import cdist\n",
    "#     manhattan = cdist(mean_stats.iloc[:, 1:], mean_stats.iloc[:, 1:], 'cityblock')\n",
    "#     manhattan_df = pd.DataFrame(manhattan, index=mean_stats.iloc[:, 1:].index)\n",
    "#     manhattan_df = pd.concat([mean_stats.player_name, manhattan_df], axis=1)\n",
    "#     all_players = manhattan_df.player_name.to_list()\n",
    "#     manhattan_df.columns = ['player_name'] + all_players\n",
    "#     return manhattan_df\n",
    "\n",
    "\n",
    "# def minkowski_similarity_df():\n",
    "#     from scipy.spatial.distance import cdist\n",
    "#     minkowski = cdist(mean_stats.iloc[:, 1:], mean_stats.iloc[:, 1:], 'minkowski')\n",
    "#     minkowski_df = pd.DataFrame(minkowski, index=mean_stats.iloc[:, 1:].index)\n",
    "#     minkowski_df = pd.concat([mean_stats.player_name, minkowski_df], axis=1)\n",
    "#     all_players = minkowski_df.player_name.to_list()\n",
    "#     minkowski_df.columns = ['player_name'] + all_players\n",
    "#     return minkowski_df"
   ]
  },
  {
   "cell_type": "code",
   "execution_count": 48,
   "id": "daa9fc88",
   "metadata": {},
   "outputs": [],
   "source": [
    "# cosine_df = cosine_similarity_df()\n",
    "# euclid_df = euclid_similarity_df()\n",
    "# manhattan_df = manhattan_similarity_df()\n",
    "# minkowski_df = minkowski_similarity_df()"
   ]
  },
  {
   "cell_type": "code",
   "execution_count": 49,
   "id": "2eb69042",
   "metadata": {},
   "outputs": [],
   "source": [
    "# similar_player = 'Lionel Messi'\n",
    "# similar_df = cosine_df.loc[cosine_df['player_name'] == similar_player]"
   ]
  },
  {
   "cell_type": "code",
   "execution_count": 9,
   "id": "3636efef",
   "metadata": {},
   "outputs": [],
   "source": [
    "# def similarity(similar_player, cosine_df, euclid_df, manhattan_df, minkowski_df):\n",
    "#     import collections\n",
    "#     similar_df = cosine_df.loc[cosine_df['player_name'] == similar_player]\n",
    "#     similar_df.set_index('player_name', inplace=True)\n",
    "#     cos_top_10 = similar_df.sort_values(by=similar_player, axis=1, ascending=False).iloc[:, 1:10]\n",
    "#     similar_df = euclid_df.loc[euclid_df['player_name'] == similar_player]\n",
    "#     similar_df.set_index('player_name', inplace=True)\n",
    "#     euc_top_10 = similar_df.sort_values(by=similar_player, axis=1, ascending=True).iloc[:, 1:10]\n",
    "#     similar_df = manhattan_df.loc[manhattan_df['player_name'] == similar_player]\n",
    "#     similar_df.set_index('player_name', inplace=True)\n",
    "#     man_top_10 = similar_df.sort_values(by=similar_player, axis=1, ascending=True).iloc[:, 1:10]\n",
    "#     similar_df = minkowski_df.loc[minkowski_df['player_name'] == similar_player]\n",
    "#     similar_df.set_index('player_name', inplace=True)\n",
    "#     mink_top_10 = similar_df.sort_values(by=similar_player, axis=1, ascending=True).iloc[:, 1:10]\n",
    "#     a_list = cos_top_10.columns.to_list()\n",
    "#     b_list = euc_top_10.columns.to_list()\n",
    "#     c_list = man_top_10.columns.to_list()\n",
    "#     d_list = mink_top_10.columns.to_list()\n",
    "#     comp_list = a_list + b_list + c_list + d_list\n",
    "#     occurrences = collections.Counter(comp_list)\n",
    "#     res = dict(sorted(occurrences.items(), key=itemgetter(1), reverse=True)[:10])\n",
    "#     return res"
   ]
  },
  {
   "cell_type": "code",
   "execution_count": 221,
   "id": "70d5995c",
   "metadata": {},
   "outputs": [],
   "source": [
    "with open('F:\\\\Road to Opta\\\\ml-ops\\\\legends.json') as f:\n",
    "      data = json.load(f)"
   ]
  },
  {
   "cell_type": "markdown",
   "id": "b750ba4f",
   "metadata": {},
   "source": [
    "# Cosine Similarity"
   ]
  },
  {
   "cell_type": "code",
   "execution_count": null,
   "id": "fd94d81d",
   "metadata": {},
   "outputs": [],
   "source": [
    "import numpy as np; import pandas as pd\n",
    "from sklearn.metrics.pairwise import cosine_similarity\n",
    "cosine = cosine_similarity(mean_stats.iloc[:,1:])"
   ]
  },
  {
   "cell_type": "code",
   "execution_count": null,
   "id": "36b80baf",
   "metadata": {},
   "outputs": [],
   "source": [
    "cosine_df = pd.DataFrame(cosine, index=mean_stats.iloc[:,1:].index)\n",
    "cosine_df = pd.concat([mean_stats.player_name,cosine_df],axis=1)\n",
    "cosine_df.head(5)"
   ]
  },
  {
   "cell_type": "code",
   "execution_count": null,
   "id": "c6df4bdb",
   "metadata": {},
   "outputs": [],
   "source": [
    "all_players = cosine_df.player_name.to_list()\n",
    "cosine_df.columns = ['player_name'] + all_players"
   ]
  },
  {
   "cell_type": "code",
   "execution_count": null,
   "id": "247cb67b",
   "metadata": {},
   "outputs": [],
   "source": [
    "similar_player = 'Kevin De Bruyne'"
   ]
  },
  {
   "cell_type": "code",
   "execution_count": null,
   "id": "8ab2438c",
   "metadata": {},
   "outputs": [],
   "source": [
    "similar_df = cosine_df.loc[cosine_df['player_name'] == similar_player]\n",
    "similar_df.set_index('player_name',inplace=True)"
   ]
  },
  {
   "cell_type": "code",
   "execution_count": null,
   "id": "4349785b",
   "metadata": {},
   "outputs": [],
   "source": [
    "similar_df.sort_values(by = similar_player, axis=1, ascending=False).iloc[:,1:20]"
   ]
  },
  {
   "cell_type": "code",
   "execution_count": null,
   "id": "cdf7d671",
   "metadata": {},
   "outputs": [],
   "source": [
    "a_list = cos_top_10.columns.to_list()"
   ]
  },
  {
   "cell_type": "markdown",
   "id": "722fe77c",
   "metadata": {},
   "source": [
    "# Euclidean Distance"
   ]
  },
  {
   "cell_type": "code",
   "execution_count": null,
   "id": "ba005c03",
   "metadata": {},
   "outputs": [],
   "source": [
    "from scipy.spatial.distance import cdist\n",
    "\n",
    "euclid = cdist(mean_stats.iloc[:,1:], mean_stats.iloc[:,1:], 'euclid')"
   ]
  },
  {
   "cell_type": "code",
   "execution_count": null,
   "id": "5da37084",
   "metadata": {},
   "outputs": [],
   "source": [
    "euclid_df = pd.DataFrame(euclid, index=mean_stats.iloc[:,1:].index)\n",
    "euclid_df = pd.concat([mean_stats.player_name,euclid_df],axis=1)\n",
    "euclid_df.head(5)"
   ]
  },
  {
   "cell_type": "code",
   "execution_count": null,
   "id": "53da4943",
   "metadata": {},
   "outputs": [],
   "source": [
    "all_players = euclid_df.player_name.to_list()\n",
    "euclid_df.columns = ['player_name'] + all_players"
   ]
  },
  {
   "cell_type": "code",
   "execution_count": null,
   "id": "eb8c9e4a",
   "metadata": {},
   "outputs": [],
   "source": [
    "similar_player = 'Kevin De Bruyne'"
   ]
  },
  {
   "cell_type": "code",
   "execution_count": null,
   "id": "ea2d1d11",
   "metadata": {},
   "outputs": [],
   "source": [
    "similar_df = euclid_df.loc[euclid_df['player_name'] == similar_player]\n",
    "similar_df.set_index('player_name',inplace=True)\n",
    "euc_top_10 = similar_df.sort_values(by = similar_player, axis=1, ascending=True).iloc[:,1:20]"
   ]
  },
  {
   "cell_type": "code",
   "execution_count": null,
   "id": "f8212026",
   "metadata": {},
   "outputs": [],
   "source": [
    "b_list = euc_top_10.columns.to_list()"
   ]
  },
  {
   "cell_type": "code",
   "execution_count": null,
   "id": "9a5eeb2c",
   "metadata": {
    "scrolled": true
   },
   "outputs": [],
   "source": [
    "a_list + b_list"
   ]
  },
  {
   "cell_type": "code",
   "execution_count": null,
   "id": "d3dd1991",
   "metadata": {},
   "outputs": [],
   "source": [
    "check_player = '''\n",
    "Select player_name from scaled_features\n",
    "where player_name LIKE '%Kevin de%'\n",
    "'''"
   ]
  },
  {
   "cell_type": "code",
   "execution_count": null,
   "id": "89e41bd2",
   "metadata": {},
   "outputs": [],
   "source": [
    "%sql $check_player"
   ]
  },
  {
   "cell_type": "markdown",
   "id": "1d0c61c5",
   "metadata": {},
   "source": [
    "# Manhattan Distance"
   ]
  },
  {
   "cell_type": "code",
   "execution_count": null,
   "id": "ff424750",
   "metadata": {},
   "outputs": [],
   "source": [
    "from scipy.spatial.distance import cdist\n",
    "manhattan = cdist(mean_stats.iloc[:,1:], mean_stats.iloc[:,1:], 'cityblock')"
   ]
  },
  {
   "cell_type": "code",
   "execution_count": null,
   "id": "f78bc4b7",
   "metadata": {},
   "outputs": [],
   "source": [
    "manhattan_df = pd.DataFrame(manhattan, index=mean_stats.iloc[:,1:].index)\n",
    "manhattan_df = pd.concat([mean_stats.player_name,manhattan_df],axis=1)\n",
    "manhattan_df.head(5)"
   ]
  },
  {
   "cell_type": "code",
   "execution_count": null,
   "id": "7dc32371",
   "metadata": {},
   "outputs": [],
   "source": [
    "all_players = manhattan_df.player_name.to_list()\n",
    "manhattan_df.columns = ['player_name'] + all_players"
   ]
  },
  {
   "cell_type": "code",
   "execution_count": null,
   "id": "078d8854",
   "metadata": {},
   "outputs": [],
   "source": [
    "similar_player = 'David Silva'"
   ]
  },
  {
   "cell_type": "code",
   "execution_count": null,
   "id": "e944da3b",
   "metadata": {},
   "outputs": [],
   "source": [
    "similar_df = manhattan_df.loc[manhattan_df['player_name'] == similar_player]\n",
    "similar_df.set_index('player_name',inplace=True)\n",
    "man_top_10 = similar_df.sort_values(by = similar_player, axis=1, ascending=True).iloc[:,1:20]"
   ]
  },
  {
   "cell_type": "code",
   "execution_count": null,
   "id": "4f2e2d05",
   "metadata": {},
   "outputs": [],
   "source": [
    "c_list = man_top_10.columns.to_list()"
   ]
  },
  {
   "cell_type": "markdown",
   "id": "b93ea445",
   "metadata": {},
   "source": [
    "# minkowski distance"
   ]
  },
  {
   "cell_type": "code",
   "execution_count": null,
   "id": "da62cea7",
   "metadata": {},
   "outputs": [],
   "source": [
    "from scipy.spatial.distance import cdist\n",
    "minkowski = cdist(mean_stats.iloc[:,1:], mean_stats.iloc[:,1:], 'minkowski')\n"
   ]
  },
  {
   "cell_type": "code",
   "execution_count": null,
   "id": "51b31575",
   "metadata": {},
   "outputs": [],
   "source": [
    "minkowski_df = pd.DataFrame(minkowski, index=mean_stats.iloc[:,1:].index)\n",
    "minkowski_df = pd.concat([mean_stats.player_name,minkowski_df],axis=1)\n",
    "minkowski_df.head(5)"
   ]
  },
  {
   "cell_type": "code",
   "execution_count": null,
   "id": "eac5ca32",
   "metadata": {},
   "outputs": [],
   "source": [
    "all_players = minkowski_df.player_name.to_list()\n",
    "minkowski_df.columns = ['player_name'] + all_players\n",
    "similar_player = 'Kevin De Bruyne'"
   ]
  },
  {
   "cell_type": "code",
   "execution_count": null,
   "id": "4eff730b",
   "metadata": {},
   "outputs": [],
   "source": [
    "similar_df = minkowski_df.loc[minkowski_df['player_name'] == similar_player]\n",
    "similar_df.set_index('player_name',inplace=True)\n",
    "mink_top_10 = similar_df.sort_values(by = similar_player, axis=1, ascending=True).iloc[:,1:20]"
   ]
  },
  {
   "cell_type": "code",
   "execution_count": null,
   "id": "d78892c2",
   "metadata": {},
   "outputs": [],
   "source": [
    "d_list = mink_top_10.columns.to_list()"
   ]
  },
  {
   "cell_type": "code",
   "execution_count": null,
   "id": "9d57fef4",
   "metadata": {},
   "outputs": [],
   "source": [
    "comp_list = a_list + b_list + c_list + d_list"
   ]
  },
  {
   "cell_type": "code",
   "execution_count": null,
   "id": "699183aa",
   "metadata": {},
   "outputs": [],
   "source": [
    "import collections\n",
    "occurrences = collections.Counter(comp_list)\n",
    "occurrences"
   ]
  },
  {
   "cell_type": "code",
   "execution_count": null,
   "id": "6b5732ad",
   "metadata": {},
   "outputs": [],
   "source": []
  }
 ],
 "metadata": {
  "kernelspec": {
   "display_name": "Python 3",
   "language": "python",
   "name": "python3"
  },
  "language_info": {
   "codemirror_mode": {
    "name": "ipython",
    "version": 3
   },
   "file_extension": ".py",
   "mimetype": "text/x-python",
   "name": "python",
   "nbconvert_exporter": "python",
   "pygments_lexer": "ipython3",
   "version": "3.9.5"
  }
 },
 "nbformat": 4,
 "nbformat_minor": 5
}
