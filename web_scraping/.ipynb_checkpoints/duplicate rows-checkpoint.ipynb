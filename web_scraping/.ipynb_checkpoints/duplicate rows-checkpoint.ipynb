{
 "cells": [
  {
   "cell_type": "code",
   "execution_count": 52,
   "id": "4fc37d4f",
   "metadata": {},
   "outputs": [],
   "source": [
    "import os \n",
    "import pandas as pd"
   ]
  },
  {
   "cell_type": "code",
   "execution_count": 53,
   "id": "117bc7bf",
   "metadata": {},
   "outputs": [],
   "source": [
    "## folder names\n",
    "\n",
    "fw = \"fw\"\n",
    "mid = \"mid\"\n",
    "defense = \"def\"\n",
    "gk = \"gk\"\n",
    "position = [fw,mid,defense,gk]"
   ]
  },
  {
   "cell_type": "code",
   "execution_count": 37,
   "id": "f8121ab4",
   "metadata": {
    "scrolled": true
   },
   "outputs": [],
   "source": [
    "# Add Season in each file\n",
    "for pos in position:\n",
    "    os.chdir(\"F:\\\\Road to Opta\\\\player_stats\\\\{}\\\\\".format(str(pos)))\n",
    "    for i in range(2016,2021):\n",
    "        os.chdir(\"F:\\\\Road to Opta\\\\player_stats\\\\{}\\\\{}-{}\".format(str(pos),str(i), str(i+1)))\n",
    "        file = pd.read_csv(\"{}_{}_stats.csv\".format(str(pos),str(i)))\n",
    "        file['Season'] = \"{}-{}\".format(str(i), str(i+1))\n",
    "        file.to_csv(\"{}_{}_season.csv\".format(str(pos),str(i)))"
   ]
  },
  {
   "cell_type": "code",
   "execution_count": 36,
   "id": "c9fdcf75",
   "metadata": {},
   "outputs": [],
   "source": [
    "# # Concat 38 seasons\n",
    "\n",
    "# csv_files = [\"rotowire-stats.csv\"]\n",
    "# for i in range(1, 38):\n",
    "#             csv_files.append(\"rotowire-stats ({}).csv\".format(i))\n",
    "# os.chdir(\"F:\\\\Road to Opta\\\\player_stats\\\\gk\\\\2020-2021\")\n",
    "# combined_csv = pd.concat([pd.read_csv(f) for f in csv_files])\n",
    "# combined_csv.to_csv(\"gk_2020_stats.csv\")"
   ]
  },
  {
   "cell_type": "code",
   "execution_count": 45,
   "id": "2170fea2",
   "metadata": {},
   "outputs": [],
   "source": [
    "## Combine all seasons of defender stats\n",
    "os.chdir(\"F:\\\\Road to Opta\\\\player_stats\\\\def\")\n",
    "\n",
    "def_2016 = pd.read_csv(\"2016-2017\\\\def_2016_season.csv\")\n",
    "def_2017 = pd.read_csv(\"2017-2018\\\\def_2017_season.csv\")\n",
    "def_2018 = pd.read_csv(\"2018-2019\\\\def_2018_season.csv\")\n",
    "def_2019 = pd.read_csv(\"2019-2020\\\\def_2019_season.csv\")\n",
    "def_2020 = pd.read_csv(\"2020-2021\\\\def_2020_season.csv\")\n",
    "\n",
    "combined_csv = pd.concat([def_2016, def_2017, def_2018, def_2019, def_2020])\n",
    "combined_csv.to_csv(\"def_stats.csv\")"
   ]
  },
  {
   "cell_type": "code",
   "execution_count": 46,
   "id": "fd040250",
   "metadata": {},
   "outputs": [],
   "source": [
    "## Combine all seasons of goal keeper stats\n",
    "os.chdir(\"F:\\\\Road to Opta\\\\player_stats\\\\gk\")\n",
    "\n",
    "gk_2016 = pd.read_csv(\"2016-2017\\\\gk_2016_season.csv\")\n",
    "gk_2017 = pd.read_csv(\"2017-2018\\\\gk_2017_season.csv\")\n",
    "gk_2018 = pd.read_csv(\"2018-2019\\\\gk_2018_season.csv\")\n",
    "gk_2019 = pd.read_csv(\"2019-2020\\\\gk_2019_season.csv\")\n",
    "gk_2020 = pd.read_csv(\"2020-2021\\\\gk_2020_season.csv\")\n",
    "\n",
    "combined_csv = pd.concat([gk_2016, gk_2017, gk_2018, gk_2019, gk_2020])\n",
    "combined_csv.to_csv(\"gk_stats.csv\")"
   ]
  },
  {
   "cell_type": "code",
   "execution_count": 47,
   "id": "1fefa4a1",
   "metadata": {},
   "outputs": [],
   "source": [
    "## Combine all seasons of midfielder stats\n",
    "os.chdir(\"F:\\\\Road to Opta\\\\player_stats\\\\mid\")\n",
    "\n",
    "mid_2016 = pd.read_csv(\"2016-2017\\\\mid_2016_season.csv\")\n",
    "mid_2017 = pd.read_csv(\"2017-2018\\\\mid_2017_season.csv\")\n",
    "mid_2018 = pd.read_csv(\"2018-2019\\\\mid_2018_season.csv\")\n",
    "mid_2019 = pd.read_csv(\"2019-2020\\\\mid_2019_season.csv\")\n",
    "mid_2020 = pd.read_csv(\"2020-2021\\\\mid_2020_season.csv\")\n",
    "\n",
    "combined_csv = pd.concat([mid_2016, mid_2017, mid_2018, mid_2019, mid_2020])\n",
    "combined_csv.to_csv(\"mid_stats.csv\")"
   ]
  },
  {
   "cell_type": "code",
   "execution_count": 48,
   "id": "853d29e5",
   "metadata": {},
   "outputs": [],
   "source": [
    "## Combine all seasons of forward stats\n",
    "os.chdir(\"F:\\\\Road to Opta\\\\player_stats\\\\fw\")\n",
    "\n",
    "fw_2016 = pd.read_csv(\"2016-2017\\\\fw_2016_season.csv\")\n",
    "fw_2017 = pd.read_csv(\"2017-2018\\\\fw_2017_season.csv\")\n",
    "fw_2018 = pd.read_csv(\"2018-2019\\\\fw_2018_season.csv\")\n",
    "fw_2019 = pd.read_csv(\"2019-2020\\\\fw_2019_season.csv\")\n",
    "fw_2020 = pd.read_csv(\"2020-2021\\\\fw_2020_season.csv\")\n",
    "\n",
    "combined_csv = pd.concat([fw_2016, fw_2017, fw_2018, fw_2019, fw_2020])\n",
    "combined_csv.to_csv(\"fw_stats.csv\")"
   ]
  },
  {
   "cell_type": "code",
   "execution_count": 49,
   "id": "77aa4bf6",
   "metadata": {},
   "outputs": [],
   "source": [
    "## Read def, gk, mid, gk stats for all season to combine into one file with all positions and all seasons\n",
    "os.chdir(\"F:\\\\Road to Opta\\\\player_stats\\\\def\")\n",
    "def_combined = pd.read_csv(\"def_stats.csv\")\n",
    "os.chdir(\"F:\\\\Road to Opta\\\\player_stats\\\\gk\")\n",
    "gk_combined = pd.read_csv(\"gk_stats.csv\")\n",
    "os.chdir(\"F:\\\\Road to Opta\\\\player_stats\\\\mid\")\n",
    "mid_combined = pd.read_csv(\"mid_stats.csv\")\n",
    "os.chdir(\"F:\\\\Road to Opta\\\\player_stats\\\\fw\")\n",
    "fw_combined = pd.read_csv(\"fw_stats.csv\")"
   ]
  },
  {
   "cell_type": "code",
   "execution_count": 50,
   "id": "5f42069e",
   "metadata": {},
   "outputs": [],
   "source": [
    "## One file with all positions and seasons\n",
    "combined_csv = pd.concat([def_combined, gk_combined, mid_combined, fw_combined])"
   ]
  },
  {
   "cell_type": "code",
   "execution_count": 51,
   "id": "a1dff406",
   "metadata": {},
   "outputs": [],
   "source": [
    "## One file with all positions and seasons\n",
    "os.chdir(\"F:\\\\Road to Opta\\\\player_stats\")\n",
    "combined_csv.to_csv(\"all_position_stats.csv\")"
   ]
  },
  {
   "cell_type": "code",
   "execution_count": 55,
   "id": "c7a57ae4",
   "metadata": {},
   "outputs": [],
   "source": [
    "os.chdir(\"F:\\\\Road to Opta\\\\player_stats\\\\\")\n",
    "all_position_stats = pd.read_csv(\"all_position_stats.csv\")"
   ]
  },
  {
   "cell_type": "code",
   "execution_count": 64,
   "id": "b1fab28f",
   "metadata": {},
   "outputs": [],
   "source": [
    "all_position_stats = all_position_stats.iloc[:,4:]"
   ]
  },
  {
   "cell_type": "code",
   "execution_count": null,
   "id": "14cd218b",
   "metadata": {},
   "outputs": [],
   "source": []
  },
  {
   "cell_type": "code",
   "execution_count": 67,
   "id": "d9d42822",
   "metadata": {},
   "outputs": [],
   "source": [
    "# drop duplcates from fw and mid combines file\n",
    "\n",
    "all_position_stats_drop_dups = all_position_stats.drop_duplicates().reset_index(drop=True)\n",
    "\n",
    "# print(\"\\n\\nDuplicate Rows : \\n {}\".format(Dup_Rows))\n"
   ]
  },
  {
   "cell_type": "code",
   "execution_count": 68,
   "id": "25679c33",
   "metadata": {},
   "outputs": [
    {
     "data": {
      "text/plain": [
       "Player Name    437082\n",
       "Team           437082\n",
       "League         437082\n",
       "OPP            437082\n",
       "H/A            437082\n",
       "                ...  \n",
       "TOFF           437082\n",
       "BCM            437082\n",
       "BCS            437082\n",
       "ATTDR          437082\n",
       "Season         437082\n",
       "Length: 95, dtype: int64"
      ]
     },
     "execution_count": 68,
     "metadata": {},
     "output_type": "execute_result"
    }
   ],
   "source": [
    "all_position_stats.count()"
   ]
  },
  {
   "cell_type": "code",
   "execution_count": 69,
   "id": "2445d4f0",
   "metadata": {
    "scrolled": true
   },
   "outputs": [
    {
     "data": {
      "text/plain": [
       "Player Name    384074\n",
       "Team           384074\n",
       "League         384074\n",
       "OPP            384074\n",
       "H/A            384074\n",
       "                ...  \n",
       "TOFF           384074\n",
       "BCM            384074\n",
       "BCS            384074\n",
       "ATTDR          384074\n",
       "Season         384074\n",
       "Length: 95, dtype: int64"
      ]
     },
     "execution_count": 69,
     "metadata": {},
     "output_type": "execute_result"
    }
   ],
   "source": [
    "all_position_stats_drop_dups.count()"
   ]
  },
  {
   "cell_type": "code",
   "execution_count": null,
   "id": "58f76661",
   "metadata": {},
   "outputs": [],
   "source": []
  },
  {
   "cell_type": "code",
   "execution_count": null,
   "id": "25a9b489",
   "metadata": {},
   "outputs": [],
   "source": []
  },
  {
   "cell_type": "code",
   "execution_count": null,
   "id": "cbcb53d2",
   "metadata": {},
   "outputs": [],
   "source": []
  }
 ],
 "metadata": {
  "kernelspec": {
   "display_name": "Python 3",
   "language": "python",
   "name": "python3"
  },
  "language_info": {
   "codemirror_mode": {
    "name": "ipython",
    "version": 3
   },
   "file_extension": ".py",
   "mimetype": "text/x-python",
   "name": "python",
   "nbconvert_exporter": "python",
   "pygments_lexer": "ipython3",
   "version": "3.9.5"
  }
 },
 "nbformat": 4,
 "nbformat_minor": 5
}
