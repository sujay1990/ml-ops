{
 "cells": [
  {
   "cell_type": "code",
   "execution_count": null,
   "id": "4fc37d4f",
   "metadata": {},
   "outputs": [],
   "source": [
    "import os \n",
    "import pandas as pd"
   ]
  },
  {
   "cell_type": "code",
   "execution_count": null,
   "id": "117bc7bf",
   "metadata": {},
   "outputs": [],
   "source": [
    "## folder names\n",
    "\n",
    "fw = \"fw\"\n",
    "mid = \"mid\"\n",
    "defense = \"def\"\n",
    "gk = \"gk\"\n",
    "position = [fw,mid,defense,gk]"
   ]
  },
  {
   "cell_type": "code",
   "execution_count": null,
   "id": "f8121ab4",
   "metadata": {
    "scrolled": true
   },
   "outputs": [],
   "source": [
    "# Add Season in each file\n",
    "for pos in position:\n",
    "    os.chdir(\"F:\\\\Road to Opta\\\\player_stats\\\\{}\\\\\".format(str(pos)))\n",
    "    for i in range(2016,2021):\n",
    "        os.chdir(\"F:\\\\Road to Opta\\\\player_stats\\\\{}\\\\{}-{}\".format(str(pos),str(i), str(i+1)))\n",
    "        file = pd.read_csv(\"{}_{}_stats.csv\".format(str(pos),str(i)))\n",
    "        file['Season'] = \"{}-{}\".format(str(i), str(i+1))\n",
    "        file.to_csv(\"{}_{}_season.csv\".format(str(pos),str(i)))"
   ]
  },
  {
   "cell_type": "code",
   "execution_count": null,
   "id": "c9fdcf75",
   "metadata": {},
   "outputs": [],
   "source": [
    "# # Concat 38 seasons\n",
    "\n",
    "# csv_files = [\"rotowire-stats.csv\"]\n",
    "# for i in range(1, 38):\n",
    "#             csv_files.append(\"rotowire-stats ({}).csv\".format(i))\n",
    "# os.chdir(\"F:\\\\Road to Opta\\\\player_stats\\\\gk\\\\2020-2021\")\n",
    "# combined_csv = pd.concat([pd.read_csv(f) for f in csv_files])\n",
    "# combined_csv.to_csv(\"gk_2020_stats.csv\")"
   ]
  },
  {
   "cell_type": "code",
   "execution_count": null,
   "id": "2170fea2",
   "metadata": {},
   "outputs": [],
   "source": [
    "## Combine all seasons of defender stats\n",
    "os.chdir(\"F:\\\\Road to Opta\\\\player_stats\\\\def\")\n",
    "\n",
    "def_2016 = pd.read_csv(\"2016-2017\\\\def_2016_season.csv\")\n",
    "def_2017 = pd.read_csv(\"2017-2018\\\\def_2017_season.csv\")\n",
    "def_2018 = pd.read_csv(\"2018-2019\\\\def_2018_season.csv\")\n",
    "def_2019 = pd.read_csv(\"2019-2020\\\\def_2019_season.csv\")\n",
    "def_2020 = pd.read_csv(\"2020-2021\\\\def_2020_season.csv\")\n",
    "\n",
    "combined_csv = pd.concat([def_2016, def_2017, def_2018, def_2019, def_2020])\n",
    "combined_csv.to_csv(\"def_stats.csv\")"
   ]
  },
  {
   "cell_type": "code",
   "execution_count": null,
   "id": "fd040250",
   "metadata": {},
   "outputs": [],
   "source": [
    "## Combine all seasons of goal keeper stats\n",
    "os.chdir(\"F:\\\\Road to Opta\\\\player_stats\\\\gk\")\n",
    "\n",
    "gk_2016 = pd.read_csv(\"2016-2017\\\\gk_2016_season.csv\")\n",
    "gk_2017 = pd.read_csv(\"2017-2018\\\\gk_2017_season.csv\")\n",
    "gk_2018 = pd.read_csv(\"2018-2019\\\\gk_2018_season.csv\")\n",
    "gk_2019 = pd.read_csv(\"2019-2020\\\\gk_2019_season.csv\")\n",
    "gk_2020 = pd.read_csv(\"2020-2021\\\\gk_2020_season.csv\")\n",
    "\n",
    "combined_csv = pd.concat([gk_2016, gk_2017, gk_2018, gk_2019, gk_2020])\n",
    "combined_csv.to_csv(\"gk_stats.csv\")"
   ]
  },
  {
   "cell_type": "code",
   "execution_count": null,
   "id": "4916302a",
   "metadata": {},
   "outputs": [],
   "source": [
    "## Combine all seasons of midfielder stats\n",
    "os.chdir(\"F:\\\\Road to Opta\\\\player_stats\\\\mid\")\n",
    "\n",
    "mid_2016 = pd.read_csv(\"2016-2017\\\\mid_2016_season.csv\")\n",
    "mid_2017 = pd.read_csv(\"2017-2018\\\\mid_2017_season.csv\")\n",
    "mid_2018 = pd.read_csv(\"2018-2019\\\\mid_2018_season.csv\")\n",
    "mid_2019 = pd.read_csv(\"2019-2020\\\\mid_2019_season.csv\")\n",
    "mid_2020 = pd.read_csv(\"2020-2021\\\\mid_2020_season.csv\")\n",
    "\n",
    "combined_csv = pd.concat([mid_2016, mid_2017, mid_2018, mid_2019, mid_2020])\n",
    "combined_csv.to_csv(\"mid_stats.csv\")"
   ]
  },
  {
   "cell_type": "code",
   "execution_count": null,
   "id": "2f1e60ec",
   "metadata": {},
   "outputs": [],
   "source": [
    "## Combine all seasons of forward stats\n",
    "os.chdir(\"F:\\\\Road to Opta\\\\player_stats\\\\fw\")\n",
    "\n",
    "fw_2016 = pd.read_csv(\"2016-2017\\\\fw_2016_season.csv\")\n",
    "fw_2017 = pd.read_csv(\"2017-2018\\\\fw_2017_season.csv\")\n",
    "fw_2018 = pd.read_csv(\"2018-2019\\\\fw_2018_season.csv\")\n",
    "fw_2019 = pd.read_csv(\"2019-2020\\\\fw_2019_season.csv\")\n",
    "fw_2020 = pd.read_csv(\"2020-2021\\\\fw_2020_season.csv\")\n",
    "\n",
    "combined_csv = pd.concat([fw_2016, fw_2017, fw_2018, fw_2019, fw_2020])\n",
    "combined_csv.to_csv(\"fw_stats.csv\")"
   ]
  },
  {
   "cell_type": "code",
   "execution_count": null,
   "id": "77aa4bf6",
   "metadata": {},
   "outputs": [],
   "source": [
    "## Read def, gk, mid, gk stats for all season to combine into one file with all positions and all seasons\n",
    "os.chdir(\"F:\\\\Road to Opta\\\\player_stats\\\\def\")\n",
    "def_combined = pd.read_csv(\"def_stats.csv\")\n",
    "os.chdir(\"F:\\\\Road to Opta\\\\player_stats\\\\gk\")\n",
    "gk_combined = pd.read_csv(\"gk_stats.csv\")\n",
    "os.chdir(\"F:\\\\Road to Opta\\\\player_stats\\\\mid\")\n",
    "mid_combined = pd.read_csv(\"mid_stats.csv\")\n",
    "os.chdir(\"F:\\\\Road to Opta\\\\player_stats\\\\fw\")\n",
    "fw_combined = pd.read_csv(\"fw_stats.csv\")"
   ]
  },
  {
   "cell_type": "code",
   "execution_count": null,
   "id": "5f42069e",
   "metadata": {},
   "outputs": [],
   "source": [
    "## One file with all positions and seasons\n",
    "combined_csv = pd.concat([def_combined, gk_combined, mid_combined, fw_combined])"
   ]
  },
  {
   "cell_type": "code",
   "execution_count": null,
   "id": "21afbae4",
   "metadata": {},
   "outputs": [],
   "source": [
    "## One file with all positions and seasons\n",
    "os.chdir(\"F:\\\\Road to Opta\\\\player_stats\")\n",
    "combined_csv.to_csv(\"all_position_stats.csv\")"
   ]
  },
  {
   "cell_type": "code",
   "execution_count": null,
   "id": "3216c9ab",
   "metadata": {},
   "outputs": [],
   "source": [
    "os.chdir(\"F:\\\\Road to Opta\\\\player_stats\\\\\")\n",
    "all_position_stats = pd.read_csv(\"all_position_stats.csv\")"
   ]
  },
  {
   "cell_type": "code",
   "execution_count": null,
   "id": "d44c7d86",
   "metadata": {},
   "outputs": [],
   "source": [
    "all_position_stats = all_position_stats.iloc[:,4:]"
   ]
  },
  {
   "cell_type": "code",
   "execution_count": null,
   "id": "40c3c5ad",
   "metadata": {},
   "outputs": [],
   "source": []
  },
  {
   "cell_type": "code",
   "execution_count": null,
   "id": "d9d42822",
   "metadata": {},
   "outputs": [],
   "source": [
    "# drop duplcates from fw and mid combines file\n",
    "\n",
    "football_dataset = all_position_stats.drop_duplicates().reset_index(drop=True)\n",
    "\n",
    "# print(\"\\n\\nDuplicate Rows : \\n {}\".format(Dup_Rows))\n"
   ]
  },
  {
   "cell_type": "code",
   "execution_count": null,
   "id": "771664c1",
   "metadata": {},
   "outputs": [],
   "source": [
    "all_position_stats.count()"
   ]
  },
  {
   "cell_type": "code",
   "execution_count": null,
   "id": "2445d4f0",
   "metadata": {
    "scrolled": true
   },
   "outputs": [],
   "source": [
    "football_dataset.count()"
   ]
  },
  {
   "cell_type": "code",
   "execution_count": null,
   "id": "021e50ac",
   "metadata": {},
   "outputs": [],
   "source": [
    "football_dataset[\"GP\"].dtypes"
   ]
  },
  {
   "cell_type": "code",
   "execution_count": null,
   "id": "58f76661",
   "metadata": {},
   "outputs": [],
   "source": [
    "football_dataset.head()"
   ]
  },
  {
   "cell_type": "code",
   "execution_count": null,
   "id": "25a9b489",
   "metadata": {},
   "outputs": [],
   "source": [
    "football_dataset.to_csv(\"football_dataset.csv\")"
   ]
  },
  {
   "cell_type": "code",
   "execution_count": null,
   "id": "cbcb53d2",
   "metadata": {},
   "outputs": [],
   "source": []
  }
 ],
 "metadata": {
  "kernelspec": {
   "display_name": "Python 3",
   "language": "python",
   "name": "python3"
  },
  "language_info": {
   "codemirror_mode": {
    "name": "ipython",
    "version": 3
   },
   "file_extension": ".py",
   "mimetype": "text/x-python",
   "name": "python",
   "nbconvert_exporter": "python",
   "pygments_lexer": "ipython3",
   "version": "3.9.5"
  }
 },
 "nbformat": 4,
 "nbformat_minor": 5
}
